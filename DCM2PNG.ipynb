{
 "cells": [
  {
   "cell_type": "code",
   "execution_count": 28,
   "metadata": {},
   "outputs": [],
   "source": [
    "from glob import glob\n",
    "import os   \n",
    "import sys\n",
    "from PIL import Image\n",
    "import numpy as np\n",
    "import matplotlib.pyplot as plt\n",
    "import pydicom\n",
    "from tqdm import tqdm"
   ]
  },
  {
   "cell_type": "code",
   "execution_count": 35,
   "metadata": {},
   "outputs": [],
   "source": [
    "def create_dir(dir_path):\n",
    "    if not os.path.exists(dir_path):\n",
    "        os.makedirs(dir_path)\n",
    "        \n",
    "\n",
    "def apply_windowing(arr, window_center, window_width):\n",
    "    \"\"\"\n",
    "    Apply windowing to a DICOM pixel array with normalization.\n",
    "    \"\"\"\n",
    "    # Compute window bounds\n",
    "    lower_bound = window_center - (window_width / 2)\n",
    "    upper_bound = window_center + (window_width / 2)\n",
    "    \n",
    "    # Clip to window range\n",
    "    windowed_arr = np.clip(arr, lower_bound, upper_bound)\n",
    "    \n",
    "    # Normalize to 0-255\n",
    "    normalized_arr = ((windowed_arr - lower_bound) / (upper_bound - lower_bound) * 255).astype(np.uint8)\n",
    "    \n",
    "    return normalized_arr\n",
    "\n",
    "def preprocess_pixel_array(dcm):\n",
    "    \"\"\"\n",
    "    Preprocess pixel array with rescaling if needed.\n",
    "    \"\"\"\n",
    "    # Extract raw pixel array\n",
    "    arr = dcm.pixel_array\n",
    "    \n",
    "    # Apply rescale slope and intercept\n",
    "    if hasattr(dcm, \"RescaleSlope\") and hasattr(dcm, \"RescaleIntercept\"):\n",
    "        slope = dcm.RescaleSlope\n",
    "        intercept = dcm.RescaleIntercept\n",
    "        arr = arr * slope + intercept\n",
    "    \n",
    "    return arr\n",
    "\n",
    "def save_dcm_as_png(dcm_file, output_path):\n",
    "    \"\"\"\n",
    "    Read a DICOM file, apply windowing, and save as a PNG using PIL.\n",
    "    \"\"\"\n",
    "    # Read the DICOM file\n",
    "    dcm = pydicom.dcmread(dcm_file)\n",
    "    \n",
    "    # Preprocess pixel array\n",
    "    pixel_array = preprocess_pixel_array(dcm)\n",
    "    \n",
    "    # Get Window Level and Window Width\n",
    "    window_center = dcm.WindowCenter if hasattr(dcm, \"WindowCenter\") else 40  # Default values if not present\n",
    "    window_width = dcm.WindowWidth if hasattr(dcm, \"WindowWidth\") else 400\n",
    "    \n",
    "    # Handle multi-valued WindowCenter or WindowWidth\n",
    "    if isinstance(window_center, pydicom.multival.MultiValue):\n",
    "        window_center = window_center[0]\n",
    "    if isinstance(window_width, pydicom.multival.MultiValue):\n",
    "        window_width = window_width[0]\n",
    "    \n",
    "    # Apply windowing\n",
    "    windowed_image = apply_windowing(pixel_array, float(window_center), float(window_width))\n",
    "    \n",
    "    # Convert to PIL Image\n",
    "    img = Image.fromarray(windowed_image)\n",
    "    \n",
    "    # Save as PNG\n",
    "    img.save(output_path)\n"
   ]
  },
  {
   "cell_type": "code",
   "execution_count": 36,
   "metadata": {},
   "outputs": [
    {
     "name": "stderr",
     "output_type": "stream",
     "text": [
      "100%|██████████| 84890/84890 [56:04<00:00, 25.23it/s]  \n"
     ]
    }
   ],
   "source": [
    "dcm_file_list = glob('../../data/NIA40/CT/**/*.dcm')  # Replace with the path to your DICOM file\n",
    "output_folder = '../../data/CT/PNG/'  # Replace with the desired output folder\n",
    "for i in tqdm(range(len(dcm_file_list))):\n",
    "    file_path=os.path.splitext(os.path.basename(dcm_file_list[i]))[0]\n",
    "    folder=file_path.split('_')[2]\n",
    "    create_dir(output_folder+folder+'/'+file_path.split('_')[0]+'_'+file_path.split('_')[1]+'/')\n",
    "    save_dcm_as_png(dcm_file_list[i], output_folder+folder+'/'+file_path.split('_')[0]+'_'+file_path.split('_')[1]+'/'+file_path+'.png')\n"
   ]
  }
 ],
 "metadata": {
  "kernelspec": {
   "display_name": "LeeYS",
   "language": "python",
   "name": "python3"
  },
  "language_info": {
   "codemirror_mode": {
    "name": "ipython",
    "version": 3
   },
   "file_extension": ".py",
   "mimetype": "text/x-python",
   "name": "python",
   "nbconvert_exporter": "python",
   "pygments_lexer": "ipython3",
   "version": "3.10.14"
  }
 },
 "nbformat": 4,
 "nbformat_minor": 2
}
