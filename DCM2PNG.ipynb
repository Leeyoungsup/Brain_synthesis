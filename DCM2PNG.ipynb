{
 "cells": [
  {
   "cell_type": "code",
   "execution_count": 1,
   "metadata": {},
   "outputs": [],
   "source": [
    "from glob import glob\n",
    "import os   \n",
    "import sys\n",
    "from PIL import Image\n",
    "import numpy as np\n",
    "import matplotlib.pyplot as plt\n",
    "import pydicom"
   ]
  },
  {
   "cell_type": "code",
   "execution_count": null,
   "metadata": {},
   "outputs": [],
   "source": [
    "def dcm_to_png(dcm_file_path, output_folder):\n",
    "    # Read the DICOM file\n",
    "    dicom_image = pydicom.dcmread(dcm_file_path)\n",
    "\n",
    "    # Convert to a numpy array and normalize pixel values\n",
    "    image_data = dicom_image.pixel_array\n",
    "    image_data = (image_data - image_data.min()) / (image_data.max() - image_data.min()) * 255\n",
    "    image_data = image_data.astype(np.uint8)\n",
    "\n",
    "    # Convert to PIL Image\n",
    "    img = Image.fromarray(image_data)\n",
    "\n",
    "    # Save as PNG\n",
    "    png_filename = os.path.splitext(os.path.basename(dcm_file_path))[0] + '.png'\n",
    "    output_path = os.path.join(output_folder, png_filename)\n",
    "    img.save(output_path)\n",
    "    print(f\"Saved {output_path}\")"
   ]
  }
 ],
 "metadata": {
  "kernelspec": {
   "display_name": "LeeYS",
   "language": "python",
   "name": "python3"
  },
  "language_info": {
   "codemirror_mode": {
    "name": "ipython",
    "version": 3
   },
   "file_extension": ".py",
   "mimetype": "text/x-python",
   "name": "python",
   "nbconvert_exporter": "python",
   "pygments_lexer": "ipython3",
   "version": "3.10.14"
  }
 },
 "nbformat": 4,
 "nbformat_minor": 2
}
